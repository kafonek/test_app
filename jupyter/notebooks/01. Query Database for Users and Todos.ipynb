{
 "cells": [
  {
   "cell_type": "code",
   "execution_count": 1,
   "id": "826ae357",
   "metadata": {
    "ExecuteTime": {
     "end_time": "2021-10-27T13:36:36.572612Z",
     "start_time": "2021-10-27T13:36:36.467477Z"
    }
   },
   "outputs": [
    {
     "data": {
      "application/javascript": [
       "\n",
       "            setTimeout(function() {\n",
       "                var nbb_cell_id = 1;\n",
       "                var nbb_unformatted_code = \"%load_ext nb_black\";\n",
       "                var nbb_formatted_code = \"%load_ext nb_black\";\n",
       "                var nbb_cells = Jupyter.notebook.get_cells();\n",
       "                for (var i = 0; i < nbb_cells.length; ++i) {\n",
       "                    if (nbb_cells[i].input_prompt_number == nbb_cell_id) {\n",
       "                        if (nbb_cells[i].get_text() == nbb_unformatted_code) {\n",
       "                             nbb_cells[i].set_text(nbb_formatted_code);\n",
       "                        }\n",
       "                        break;\n",
       "                    }\n",
       "                }\n",
       "            }, 500);\n",
       "            "
      ],
      "text/plain": [
       "<IPython.core.display.Javascript object>"
      ]
     },
     "metadata": {},
     "output_type": "display_data"
    }
   ],
   "source": [
    "%load_ext nb_black"
   ]
  },
  {
   "cell_type": "code",
   "execution_count": 2,
   "id": "ef9ea84d",
   "metadata": {
    "ExecuteTime": {
     "end_time": "2021-10-27T13:36:37.157037Z",
     "start_time": "2021-10-27T13:36:36.715904Z"
    }
   },
   "outputs": [
    {
     "data": {
      "application/javascript": [
       "\n",
       "            setTimeout(function() {\n",
       "                var nbb_cell_id = 2;\n",
       "                var nbb_unformatted_code = \"import logging\\n\\nlogging.basicConfig()\\nlogger = logging.getLogger(\\\"sqlalchemy.engine\\\")\\nlogger.propagate = True\\nlogger.setLevel(logging.INFO)\";\n",
       "                var nbb_formatted_code = \"import logging\\n\\nlogging.basicConfig()\\nlogger = logging.getLogger(\\\"sqlalchemy.engine\\\")\\nlogger.propagate = True\\nlogger.setLevel(logging.INFO)\";\n",
       "                var nbb_cells = Jupyter.notebook.get_cells();\n",
       "                for (var i = 0; i < nbb_cells.length; ++i) {\n",
       "                    if (nbb_cells[i].input_prompt_number == nbb_cell_id) {\n",
       "                        if (nbb_cells[i].get_text() == nbb_unformatted_code) {\n",
       "                             nbb_cells[i].set_text(nbb_formatted_code);\n",
       "                        }\n",
       "                        break;\n",
       "                    }\n",
       "                }\n",
       "            }, 500);\n",
       "            "
      ],
      "text/plain": [
       "<IPython.core.display.Javascript object>"
      ]
     },
     "metadata": {},
     "output_type": "display_data"
    }
   ],
   "source": [
    "import logging\n",
    "\n",
    "logging.basicConfig()\n",
    "logger = logging.getLogger(\"sqlalchemy.engine\")\n",
    "logger.propagate = True\n",
    "logger.setLevel(logging.INFO)"
   ]
  },
  {
   "cell_type": "code",
   "execution_count": 3,
   "id": "1910d2cb",
   "metadata": {
    "ExecuteTime": {
     "end_time": "2021-10-27T13:36:37.928879Z",
     "start_time": "2021-10-27T13:36:37.160235Z"
    }
   },
   "outputs": [
    {
     "data": {
      "application/javascript": [
       "\n",
       "            setTimeout(function() {\n",
       "                var nbb_cell_id = 3;\n",
       "                var nbb_unformatted_code = \"import sqlalchemy as sa\\n\\nfrom app.db import db_session\\nfrom app.models import User, Todo\";\n",
       "                var nbb_formatted_code = \"import sqlalchemy as sa\\n\\nfrom app.db import db_session\\nfrom app.models import User, Todo\";\n",
       "                var nbb_cells = Jupyter.notebook.get_cells();\n",
       "                for (var i = 0; i < nbb_cells.length; ++i) {\n",
       "                    if (nbb_cells[i].input_prompt_number == nbb_cell_id) {\n",
       "                        if (nbb_cells[i].get_text() == nbb_unformatted_code) {\n",
       "                             nbb_cells[i].set_text(nbb_formatted_code);\n",
       "                        }\n",
       "                        break;\n",
       "                    }\n",
       "                }\n",
       "            }, 500);\n",
       "            "
      ],
      "text/plain": [
       "<IPython.core.display.Javascript object>"
      ]
     },
     "metadata": {},
     "output_type": "display_data"
    }
   ],
   "source": [
    "import sqlalchemy as sa\n",
    "\n",
    "from app.db import db_session\n",
    "from app.models import User, Todo"
   ]
  },
  {
   "cell_type": "code",
   "execution_count": 4,
   "id": "fb2ec2ab",
   "metadata": {
    "ExecuteTime": {
     "end_time": "2021-10-27T13:36:38.060026Z",
     "start_time": "2021-10-27T13:36:37.931345Z"
    }
   },
   "outputs": [
    {
     "name": "stderr",
     "output_type": "stream",
     "text": [
      "INFO:sqlalchemy.engine.Engine:select pg_catalog.version()\n",
      "INFO:sqlalchemy.engine.Engine:[raw sql] {}\n",
      "INFO:sqlalchemy.engine.Engine:select current_schema()\n",
      "INFO:sqlalchemy.engine.Engine:[raw sql] {}\n",
      "INFO:sqlalchemy.engine.Engine:show standard_conforming_strings\n",
      "INFO:sqlalchemy.engine.Engine:[raw sql] {}\n",
      "INFO:sqlalchemy.engine.Engine:BEGIN (implicit)\n",
      "INFO:sqlalchemy.engine.Engine:SELECT \"user\".id, \"user\".created_at, \"user\".name, \"user\".password \n",
      "FROM \"user\"\n",
      "INFO:sqlalchemy.engine.Engine:[generated in 0.00139s] {}\n",
      "INFO:sqlalchemy.engine.Engine:COMMIT\n"
     ]
    },
    {
     "data": {
      "text/plain": [
       "[User(created_at=datetime.datetime(2021, 10, 27, 13, 28, 37, 717609, tzinfo=datetime.timezone.utc), name='user1', password='pass', id=UUID('b3065418-b8fa-4787-95a1-d086cbf77bd9')),\n",
       " User(created_at=datetime.datetime(2021, 10, 27, 13, 28, 37, 718189, tzinfo=datetime.timezone.utc), name='user2', password='pass', id=UUID('647a93f4-c93d-4058-ace6-cde6a328d85f'))]"
      ]
     },
     "execution_count": 4,
     "metadata": {},
     "output_type": "execute_result"
    },
    {
     "data": {
      "application/javascript": [
       "\n",
       "            setTimeout(function() {\n",
       "                var nbb_cell_id = 4;\n",
       "                var nbb_unformatted_code = \"with db_session() as session:\\n    statement = sa.select(User)\\n    results = session.execute(statement)\\n    users = results.scalars().all()\\n\\nusers\";\n",
       "                var nbb_formatted_code = \"with db_session() as session:\\n    statement = sa.select(User)\\n    results = session.execute(statement)\\n    users = results.scalars().all()\\n\\nusers\";\n",
       "                var nbb_cells = Jupyter.notebook.get_cells();\n",
       "                for (var i = 0; i < nbb_cells.length; ++i) {\n",
       "                    if (nbb_cells[i].input_prompt_number == nbb_cell_id) {\n",
       "                        if (nbb_cells[i].get_text() == nbb_unformatted_code) {\n",
       "                             nbb_cells[i].set_text(nbb_formatted_code);\n",
       "                        }\n",
       "                        break;\n",
       "                    }\n",
       "                }\n",
       "            }, 500);\n",
       "            "
      ],
      "text/plain": [
       "<IPython.core.display.Javascript object>"
      ]
     },
     "metadata": {},
     "output_type": "display_data"
    }
   ],
   "source": [
    "with db_session() as session:\n",
    "    statement = sa.select(User)\n",
    "    results = session.execute(statement)\n",
    "    users = results.scalars().all()\n",
    "\n",
    "users"
   ]
  },
  {
   "cell_type": "code",
   "execution_count": 5,
   "id": "5e3c97f0",
   "metadata": {
    "ExecuteTime": {
     "end_time": "2021-10-27T13:36:39.558855Z",
     "start_time": "2021-10-27T13:36:39.475084Z"
    },
    "scrolled": true
   },
   "outputs": [
    {
     "ename": "DetachedInstanceError",
     "evalue": "Parent instance <User at 0x7f68d40ab280> is not bound to a Session; lazy load operation of attribute 'todos' cannot proceed (Background on this error at: https://sqlalche.me/e/14/bhk3)",
     "output_type": "error",
     "traceback": [
      "\u001b[0;31m---------------------------------------------------------------------------\u001b[0m",
      "\u001b[0;31mDetachedInstanceError\u001b[0m                     Traceback (most recent call last)",
      "\u001b[0;32m/tmp/ipykernel_166/2451115598.py\u001b[0m in \u001b[0;36m<module>\u001b[0;34m\u001b[0m\n\u001b[0;32m----> 1\u001b[0;31m \u001b[0musers\u001b[0m\u001b[0;34m[\u001b[0m\u001b[0;36m0\u001b[0m\u001b[0;34m]\u001b[0m\u001b[0;34m.\u001b[0m\u001b[0mtodos\u001b[0m\u001b[0;34m\u001b[0m\u001b[0;34m\u001b[0m\u001b[0m\n\u001b[0m",
      "\u001b[0;32m/opt/conda/lib/python3.9/site-packages/sqlalchemy/orm/attributes.py\u001b[0m in \u001b[0;36m__get__\u001b[0;34m(self, instance, owner)\u001b[0m\n\u001b[1;32m    479\u001b[0m                     \u001b[0mreplace_context\u001b[0m\u001b[0;34m=\u001b[0m\u001b[0merr\u001b[0m\u001b[0;34m,\u001b[0m\u001b[0;34m\u001b[0m\u001b[0;34m\u001b[0m\u001b[0m\n\u001b[1;32m    480\u001b[0m                 )\n\u001b[0;32m--> 481\u001b[0;31m             \u001b[0;32mreturn\u001b[0m \u001b[0mself\u001b[0m\u001b[0;34m.\u001b[0m\u001b[0mimpl\u001b[0m\u001b[0;34m.\u001b[0m\u001b[0mget\u001b[0m\u001b[0;34m(\u001b[0m\u001b[0mstate\u001b[0m\u001b[0;34m,\u001b[0m \u001b[0mdict_\u001b[0m\u001b[0;34m)\u001b[0m\u001b[0;34m\u001b[0m\u001b[0;34m\u001b[0m\u001b[0m\n\u001b[0m\u001b[1;32m    482\u001b[0m \u001b[0;34m\u001b[0m\u001b[0m\n\u001b[1;32m    483\u001b[0m \u001b[0;34m\u001b[0m\u001b[0m\n",
      "\u001b[0;32m/opt/conda/lib/python3.9/site-packages/sqlalchemy/orm/attributes.py\u001b[0m in \u001b[0;36mget\u001b[0;34m(self, state, dict_, passive)\u001b[0m\n\u001b[1;32m    924\u001b[0m                     \u001b[0;32mreturn\u001b[0m \u001b[0mPASSIVE_NO_RESULT\u001b[0m\u001b[0;34m\u001b[0m\u001b[0;34m\u001b[0m\u001b[0m\n\u001b[1;32m    925\u001b[0m \u001b[0;34m\u001b[0m\u001b[0m\n\u001b[0;32m--> 926\u001b[0;31m                 \u001b[0mvalue\u001b[0m \u001b[0;34m=\u001b[0m \u001b[0mself\u001b[0m\u001b[0;34m.\u001b[0m\u001b[0m_fire_loader_callables\u001b[0m\u001b[0;34m(\u001b[0m\u001b[0mstate\u001b[0m\u001b[0;34m,\u001b[0m \u001b[0mkey\u001b[0m\u001b[0;34m,\u001b[0m \u001b[0mpassive\u001b[0m\u001b[0;34m)\u001b[0m\u001b[0;34m\u001b[0m\u001b[0;34m\u001b[0m\u001b[0m\n\u001b[0m\u001b[1;32m    927\u001b[0m \u001b[0;34m\u001b[0m\u001b[0m\n\u001b[1;32m    928\u001b[0m                 \u001b[0;32mif\u001b[0m \u001b[0mvalue\u001b[0m \u001b[0;32mis\u001b[0m \u001b[0mPASSIVE_NO_RESULT\u001b[0m \u001b[0;32mor\u001b[0m \u001b[0mvalue\u001b[0m \u001b[0;32mis\u001b[0m \u001b[0mNO_VALUE\u001b[0m\u001b[0;34m:\u001b[0m\u001b[0;34m\u001b[0m\u001b[0;34m\u001b[0m\u001b[0m\n",
      "\u001b[0;32m/opt/conda/lib/python3.9/site-packages/sqlalchemy/orm/attributes.py\u001b[0m in \u001b[0;36m_fire_loader_callables\u001b[0;34m(self, state, key, passive)\u001b[0m\n\u001b[1;32m    960\u001b[0m             \u001b[0;32mreturn\u001b[0m \u001b[0mcallable_\u001b[0m\u001b[0;34m(\u001b[0m\u001b[0mstate\u001b[0m\u001b[0;34m,\u001b[0m \u001b[0mpassive\u001b[0m\u001b[0;34m)\u001b[0m\u001b[0;34m\u001b[0m\u001b[0;34m\u001b[0m\u001b[0m\n\u001b[1;32m    961\u001b[0m         \u001b[0;32melif\u001b[0m \u001b[0mself\u001b[0m\u001b[0;34m.\u001b[0m\u001b[0mcallable_\u001b[0m\u001b[0;34m:\u001b[0m\u001b[0;34m\u001b[0m\u001b[0;34m\u001b[0m\u001b[0m\n\u001b[0;32m--> 962\u001b[0;31m             \u001b[0;32mreturn\u001b[0m \u001b[0mself\u001b[0m\u001b[0;34m.\u001b[0m\u001b[0mcallable_\u001b[0m\u001b[0;34m(\u001b[0m\u001b[0mstate\u001b[0m\u001b[0;34m,\u001b[0m \u001b[0mpassive\u001b[0m\u001b[0;34m)\u001b[0m\u001b[0;34m\u001b[0m\u001b[0;34m\u001b[0m\u001b[0m\n\u001b[0m\u001b[1;32m    963\u001b[0m         \u001b[0;32melse\u001b[0m\u001b[0;34m:\u001b[0m\u001b[0;34m\u001b[0m\u001b[0;34m\u001b[0m\u001b[0m\n\u001b[1;32m    964\u001b[0m             \u001b[0;32mreturn\u001b[0m \u001b[0mATTR_EMPTY\u001b[0m\u001b[0;34m\u001b[0m\u001b[0;34m\u001b[0m\u001b[0m\n",
      "\u001b[0;32m/opt/conda/lib/python3.9/site-packages/sqlalchemy/orm/strategies.py\u001b[0m in \u001b[0;36m_load_for_state\u001b[0;34m(self, state, passive, loadopt, extra_criteria)\u001b[0m\n\u001b[1;32m    841\u001b[0m                 \u001b[0;32mreturn\u001b[0m \u001b[0mattributes\u001b[0m\u001b[0;34m.\u001b[0m\u001b[0mPASSIVE_NO_RESULT\u001b[0m\u001b[0;34m\u001b[0m\u001b[0;34m\u001b[0m\u001b[0m\n\u001b[1;32m    842\u001b[0m \u001b[0;34m\u001b[0m\u001b[0m\n\u001b[0;32m--> 843\u001b[0;31m             raise orm_exc.DetachedInstanceError(\n\u001b[0m\u001b[1;32m    844\u001b[0m                 \u001b[0;34m\"Parent instance %s is not bound to a Session; \"\u001b[0m\u001b[0;34m\u001b[0m\u001b[0;34m\u001b[0m\u001b[0m\n\u001b[1;32m    845\u001b[0m                 \u001b[0;34m\"lazy load operation of attribute '%s' cannot proceed\"\u001b[0m\u001b[0;34m\u001b[0m\u001b[0;34m\u001b[0m\u001b[0m\n",
      "\u001b[0;31mDetachedInstanceError\u001b[0m: Parent instance <User at 0x7f68d40ab280> is not bound to a Session; lazy load operation of attribute 'todos' cannot proceed (Background on this error at: https://sqlalche.me/e/14/bhk3)"
     ]
    },
    {
     "data": {
      "application/javascript": [
       "\n",
       "            setTimeout(function() {\n",
       "                var nbb_cell_id = 5;\n",
       "                var nbb_unformatted_code = \"users[0].todos\";\n",
       "                var nbb_formatted_code = \"users[0].todos\";\n",
       "                var nbb_cells = Jupyter.notebook.get_cells();\n",
       "                for (var i = 0; i < nbb_cells.length; ++i) {\n",
       "                    if (nbb_cells[i].input_prompt_number == nbb_cell_id) {\n",
       "                        if (nbb_cells[i].get_text() == nbb_unformatted_code) {\n",
       "                             nbb_cells[i].set_text(nbb_formatted_code);\n",
       "                        }\n",
       "                        break;\n",
       "                    }\n",
       "                }\n",
       "            }, 500);\n",
       "            "
      ],
      "text/plain": [
       "<IPython.core.display.Javascript object>"
      ]
     },
     "metadata": {},
     "output_type": "display_data"
    }
   ],
   "source": [
    "users[0].todos"
   ]
  },
  {
   "cell_type": "code",
   "execution_count": 6,
   "id": "52c0b53b",
   "metadata": {
    "ExecuteTime": {
     "end_time": "2021-10-27T13:36:39.866682Z",
     "start_time": "2021-10-27T13:36:39.827573Z"
    },
    "scrolled": true
   },
   "outputs": [
    {
     "ename": "DetachedInstanceError",
     "evalue": "Parent instance <User at 0x7f68d40ab280> is not bound to a Session; lazy load operation of attribute 'todos' cannot proceed (Background on this error at: https://sqlalche.me/e/14/bhk3)",
     "output_type": "error",
     "traceback": [
      "\u001b[0;31m---------------------------------------------------------------------------\u001b[0m",
      "\u001b[0;31mDetachedInstanceError\u001b[0m                     Traceback (most recent call last)",
      "\u001b[0;32m/tmp/ipykernel_166/1116632285.py\u001b[0m in \u001b[0;36m<module>\u001b[0;34m\u001b[0m\n\u001b[1;32m      1\u001b[0m \u001b[0;32mwith\u001b[0m \u001b[0mdb_session\u001b[0m\u001b[0;34m(\u001b[0m\u001b[0;34m)\u001b[0m \u001b[0;32mas\u001b[0m \u001b[0msession\u001b[0m\u001b[0;34m:\u001b[0m\u001b[0;34m\u001b[0m\u001b[0;34m\u001b[0m\u001b[0m\n\u001b[0;32m----> 2\u001b[0;31m     \u001b[0mtodos\u001b[0m \u001b[0;34m=\u001b[0m \u001b[0musers\u001b[0m\u001b[0;34m[\u001b[0m\u001b[0;36m0\u001b[0m\u001b[0;34m]\u001b[0m\u001b[0;34m.\u001b[0m\u001b[0mtodos\u001b[0m\u001b[0;34m\u001b[0m\u001b[0;34m\u001b[0m\u001b[0m\n\u001b[0m\u001b[1;32m      3\u001b[0m \u001b[0;34m\u001b[0m\u001b[0m\n\u001b[1;32m      4\u001b[0m \u001b[0mtodos\u001b[0m\u001b[0;34m\u001b[0m\u001b[0;34m\u001b[0m\u001b[0m\n",
      "\u001b[0;32m/opt/conda/lib/python3.9/site-packages/sqlalchemy/orm/attributes.py\u001b[0m in \u001b[0;36m__get__\u001b[0;34m(self, instance, owner)\u001b[0m\n\u001b[1;32m    479\u001b[0m                     \u001b[0mreplace_context\u001b[0m\u001b[0;34m=\u001b[0m\u001b[0merr\u001b[0m\u001b[0;34m,\u001b[0m\u001b[0;34m\u001b[0m\u001b[0;34m\u001b[0m\u001b[0m\n\u001b[1;32m    480\u001b[0m                 )\n\u001b[0;32m--> 481\u001b[0;31m             \u001b[0;32mreturn\u001b[0m \u001b[0mself\u001b[0m\u001b[0;34m.\u001b[0m\u001b[0mimpl\u001b[0m\u001b[0;34m.\u001b[0m\u001b[0mget\u001b[0m\u001b[0;34m(\u001b[0m\u001b[0mstate\u001b[0m\u001b[0;34m,\u001b[0m \u001b[0mdict_\u001b[0m\u001b[0;34m)\u001b[0m\u001b[0;34m\u001b[0m\u001b[0;34m\u001b[0m\u001b[0m\n\u001b[0m\u001b[1;32m    482\u001b[0m \u001b[0;34m\u001b[0m\u001b[0m\n\u001b[1;32m    483\u001b[0m \u001b[0;34m\u001b[0m\u001b[0m\n",
      "\u001b[0;32m/opt/conda/lib/python3.9/site-packages/sqlalchemy/orm/attributes.py\u001b[0m in \u001b[0;36mget\u001b[0;34m(self, state, dict_, passive)\u001b[0m\n\u001b[1;32m    924\u001b[0m                     \u001b[0;32mreturn\u001b[0m \u001b[0mPASSIVE_NO_RESULT\u001b[0m\u001b[0;34m\u001b[0m\u001b[0;34m\u001b[0m\u001b[0m\n\u001b[1;32m    925\u001b[0m \u001b[0;34m\u001b[0m\u001b[0m\n\u001b[0;32m--> 926\u001b[0;31m                 \u001b[0mvalue\u001b[0m \u001b[0;34m=\u001b[0m \u001b[0mself\u001b[0m\u001b[0;34m.\u001b[0m\u001b[0m_fire_loader_callables\u001b[0m\u001b[0;34m(\u001b[0m\u001b[0mstate\u001b[0m\u001b[0;34m,\u001b[0m \u001b[0mkey\u001b[0m\u001b[0;34m,\u001b[0m \u001b[0mpassive\u001b[0m\u001b[0;34m)\u001b[0m\u001b[0;34m\u001b[0m\u001b[0;34m\u001b[0m\u001b[0m\n\u001b[0m\u001b[1;32m    927\u001b[0m \u001b[0;34m\u001b[0m\u001b[0m\n\u001b[1;32m    928\u001b[0m                 \u001b[0;32mif\u001b[0m \u001b[0mvalue\u001b[0m \u001b[0;32mis\u001b[0m \u001b[0mPASSIVE_NO_RESULT\u001b[0m \u001b[0;32mor\u001b[0m \u001b[0mvalue\u001b[0m \u001b[0;32mis\u001b[0m \u001b[0mNO_VALUE\u001b[0m\u001b[0;34m:\u001b[0m\u001b[0;34m\u001b[0m\u001b[0;34m\u001b[0m\u001b[0m\n",
      "\u001b[0;32m/opt/conda/lib/python3.9/site-packages/sqlalchemy/orm/attributes.py\u001b[0m in \u001b[0;36m_fire_loader_callables\u001b[0;34m(self, state, key, passive)\u001b[0m\n\u001b[1;32m    960\u001b[0m             \u001b[0;32mreturn\u001b[0m \u001b[0mcallable_\u001b[0m\u001b[0;34m(\u001b[0m\u001b[0mstate\u001b[0m\u001b[0;34m,\u001b[0m \u001b[0mpassive\u001b[0m\u001b[0;34m)\u001b[0m\u001b[0;34m\u001b[0m\u001b[0;34m\u001b[0m\u001b[0m\n\u001b[1;32m    961\u001b[0m         \u001b[0;32melif\u001b[0m \u001b[0mself\u001b[0m\u001b[0;34m.\u001b[0m\u001b[0mcallable_\u001b[0m\u001b[0;34m:\u001b[0m\u001b[0;34m\u001b[0m\u001b[0;34m\u001b[0m\u001b[0m\n\u001b[0;32m--> 962\u001b[0;31m             \u001b[0;32mreturn\u001b[0m \u001b[0mself\u001b[0m\u001b[0;34m.\u001b[0m\u001b[0mcallable_\u001b[0m\u001b[0;34m(\u001b[0m\u001b[0mstate\u001b[0m\u001b[0;34m,\u001b[0m \u001b[0mpassive\u001b[0m\u001b[0;34m)\u001b[0m\u001b[0;34m\u001b[0m\u001b[0;34m\u001b[0m\u001b[0m\n\u001b[0m\u001b[1;32m    963\u001b[0m         \u001b[0;32melse\u001b[0m\u001b[0;34m:\u001b[0m\u001b[0;34m\u001b[0m\u001b[0;34m\u001b[0m\u001b[0m\n\u001b[1;32m    964\u001b[0m             \u001b[0;32mreturn\u001b[0m \u001b[0mATTR_EMPTY\u001b[0m\u001b[0;34m\u001b[0m\u001b[0;34m\u001b[0m\u001b[0m\n",
      "\u001b[0;32m/opt/conda/lib/python3.9/site-packages/sqlalchemy/orm/strategies.py\u001b[0m in \u001b[0;36m_load_for_state\u001b[0;34m(self, state, passive, loadopt, extra_criteria)\u001b[0m\n\u001b[1;32m    841\u001b[0m                 \u001b[0;32mreturn\u001b[0m \u001b[0mattributes\u001b[0m\u001b[0;34m.\u001b[0m\u001b[0mPASSIVE_NO_RESULT\u001b[0m\u001b[0;34m\u001b[0m\u001b[0;34m\u001b[0m\u001b[0m\n\u001b[1;32m    842\u001b[0m \u001b[0;34m\u001b[0m\u001b[0m\n\u001b[0;32m--> 843\u001b[0;31m             raise orm_exc.DetachedInstanceError(\n\u001b[0m\u001b[1;32m    844\u001b[0m                 \u001b[0;34m\"Parent instance %s is not bound to a Session; \"\u001b[0m\u001b[0;34m\u001b[0m\u001b[0;34m\u001b[0m\u001b[0m\n\u001b[1;32m    845\u001b[0m                 \u001b[0;34m\"lazy load operation of attribute '%s' cannot proceed\"\u001b[0m\u001b[0;34m\u001b[0m\u001b[0;34m\u001b[0m\u001b[0m\n",
      "\u001b[0;31mDetachedInstanceError\u001b[0m: Parent instance <User at 0x7f68d40ab280> is not bound to a Session; lazy load operation of attribute 'todos' cannot proceed (Background on this error at: https://sqlalche.me/e/14/bhk3)"
     ]
    },
    {
     "data": {
      "application/javascript": [
       "\n",
       "            setTimeout(function() {\n",
       "                var nbb_cell_id = 6;\n",
       "                var nbb_unformatted_code = \"with db_session() as session:\\n    todos = users[0].todos\\n\\ntodos\";\n",
       "                var nbb_formatted_code = \"with db_session() as session:\\n    todos = users[0].todos\\n\\ntodos\";\n",
       "                var nbb_cells = Jupyter.notebook.get_cells();\n",
       "                for (var i = 0; i < nbb_cells.length; ++i) {\n",
       "                    if (nbb_cells[i].input_prompt_number == nbb_cell_id) {\n",
       "                        if (nbb_cells[i].get_text() == nbb_unformatted_code) {\n",
       "                             nbb_cells[i].set_text(nbb_formatted_code);\n",
       "                        }\n",
       "                        break;\n",
       "                    }\n",
       "                }\n",
       "            }, 500);\n",
       "            "
      ],
      "text/plain": [
       "<IPython.core.display.Javascript object>"
      ]
     },
     "metadata": {},
     "output_type": "display_data"
    }
   ],
   "source": [
    "with db_session() as session:\n",
    "    todos = users[0].todos\n",
    "\n",
    "todos"
   ]
  },
  {
   "cell_type": "code",
   "execution_count": 7,
   "id": "ecf6648a",
   "metadata": {
    "ExecuteTime": {
     "end_time": "2021-10-27T13:36:40.502418Z",
     "start_time": "2021-10-27T13:36:40.475189Z"
    }
   },
   "outputs": [
    {
     "name": "stderr",
     "output_type": "stream",
     "text": [
      "INFO:sqlalchemy.engine.Engine:BEGIN (implicit)\n",
      "INFO:sqlalchemy.engine.Engine:SELECT todo.id, todo.created_at, todo.title, todo.content, todo.user_id \n",
      "FROM todo JOIN \"user\" ON \"user\".id = todo.user_id \n",
      "WHERE \"user\".id = %(id_1)s\n",
      "INFO:sqlalchemy.engine.Engine:[generated in 0.00175s] {'id_1': UUID('b3065418-b8fa-4787-95a1-d086cbf77bd9')}\n",
      "INFO:sqlalchemy.engine.Engine:COMMIT\n"
     ]
    },
    {
     "data": {
      "text/plain": [
       "[Todo(title='Note 1', user_id=UUID('b3065418-b8fa-4787-95a1-d086cbf77bd9'), id=UUID('df05df80-692a-4d0f-9ee9-2a342d4a7877'), created_at=datetime.datetime(2021, 10, 27, 13, 28, 37, 718381, tzinfo=datetime.timezone.utc), content='Delete this Note'),\n",
       " Todo(title='Note 2', user_id=UUID('b3065418-b8fa-4787-95a1-d086cbf77bd9'), id=UUID('83e9d29f-c8dd-4e49-a94b-8d1eef9cb2a7'), created_at=datetime.datetime(2021, 10, 27, 13, 28, 37, 719571, tzinfo=datetime.timezone.utc), content='Edit this Note'),\n",
       " Todo(title='Note 3', user_id=UUID('b3065418-b8fa-4787-95a1-d086cbf77bd9'), id=UUID('456e9fea-5e4f-4a72-a746-05172b6548e1'), created_at=datetime.datetime(2021, 10, 27, 13, 28, 37, 719901, tzinfo=datetime.timezone.utc), content='A deleted Note'),\n",
       " Todo(title='Note 4', user_id=UUID('b3065418-b8fa-4787-95a1-d086cbf77bd9'), id=UUID('1cacad7a-bef2-49af-9589-72b3ca1b5c57'), created_at=datetime.datetime(2021, 10, 27, 13, 28, 37, 720286, tzinfo=datetime.timezone.utc), content='Make more Notes')]"
      ]
     },
     "execution_count": 7,
     "metadata": {},
     "output_type": "execute_result"
    },
    {
     "data": {
      "application/javascript": [
       "\n",
       "            setTimeout(function() {\n",
       "                var nbb_cell_id = 7;\n",
       "                var nbb_unformatted_code = \"with db_session() as session:\\n    statement = sa.select(Todo).join(User).where(User.id == users[0].id)\\n    results = session.execute(statement)\\n    todos = results.scalars().all()\\ntodos\";\n",
       "                var nbb_formatted_code = \"with db_session() as session:\\n    statement = sa.select(Todo).join(User).where(User.id == users[0].id)\\n    results = session.execute(statement)\\n    todos = results.scalars().all()\\ntodos\";\n",
       "                var nbb_cells = Jupyter.notebook.get_cells();\n",
       "                for (var i = 0; i < nbb_cells.length; ++i) {\n",
       "                    if (nbb_cells[i].input_prompt_number == nbb_cell_id) {\n",
       "                        if (nbb_cells[i].get_text() == nbb_unformatted_code) {\n",
       "                             nbb_cells[i].set_text(nbb_formatted_code);\n",
       "                        }\n",
       "                        break;\n",
       "                    }\n",
       "                }\n",
       "            }, 500);\n",
       "            "
      ],
      "text/plain": [
       "<IPython.core.display.Javascript object>"
      ]
     },
     "metadata": {},
     "output_type": "display_data"
    }
   ],
   "source": [
    "with db_session() as session:\n",
    "    statement = sa.select(Todo).join(User).where(User.id == users[0].id)\n",
    "    results = session.execute(statement)\n",
    "    todos = results.scalars().all()\n",
    "todos"
   ]
  },
  {
   "cell_type": "code",
   "execution_count": null,
   "id": "72fd6a49",
   "metadata": {},
   "outputs": [],
   "source": []
  }
 ],
 "metadata": {
  "kernelspec": {
   "display_name": "Python 3 (ipykernel)",
   "language": "python",
   "name": "python3"
  },
  "language_info": {
   "codemirror_mode": {
    "name": "ipython",
    "version": 3
   },
   "file_extension": ".py",
   "mimetype": "text/x-python",
   "name": "python",
   "nbconvert_exporter": "python",
   "pygments_lexer": "ipython3",
   "version": "3.9.7"
  },
  "toc": {
   "base_numbering": 1,
   "nav_menu": {},
   "number_sections": true,
   "sideBar": true,
   "skip_h1_title": false,
   "title_cell": "Table of Contents",
   "title_sidebar": "Contents",
   "toc_cell": false,
   "toc_position": {},
   "toc_section_display": true,
   "toc_window_display": false
  }
 },
 "nbformat": 4,
 "nbformat_minor": 5
}
