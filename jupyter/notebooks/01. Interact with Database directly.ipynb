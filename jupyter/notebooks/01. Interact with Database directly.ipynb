{
 "cells": [
  {
   "cell_type": "code",
   "execution_count": 1,
   "id": "826ae357",
   "metadata": {
    "ExecuteTime": {
     "end_time": "2021-10-28T13:44:15.757402Z",
     "start_time": "2021-10-28T13:44:15.648135Z"
    }
   },
   "outputs": [
    {
     "data": {
      "application/javascript": [
       "\n",
       "            setTimeout(function() {\n",
       "                var nbb_cell_id = 1;\n",
       "                var nbb_unformatted_code = \"%load_ext nb_black\";\n",
       "                var nbb_formatted_code = \"%load_ext nb_black\";\n",
       "                var nbb_cells = Jupyter.notebook.get_cells();\n",
       "                for (var i = 0; i < nbb_cells.length; ++i) {\n",
       "                    if (nbb_cells[i].input_prompt_number == nbb_cell_id) {\n",
       "                        if (nbb_cells[i].get_text() == nbb_unformatted_code) {\n",
       "                             nbb_cells[i].set_text(nbb_formatted_code);\n",
       "                        }\n",
       "                        break;\n",
       "                    }\n",
       "                }\n",
       "            }, 500);\n",
       "            "
      ],
      "text/plain": [
       "<IPython.core.display.Javascript object>"
      ]
     },
     "metadata": {},
     "output_type": "display_data"
    }
   ],
   "source": [
    "%load_ext nb_black"
   ]
  },
  {
   "cell_type": "code",
   "execution_count": 2,
   "id": "ef9ea84d",
   "metadata": {
    "ExecuteTime": {
     "end_time": "2021-10-28T13:44:16.325376Z",
     "start_time": "2021-10-28T13:44:15.760328Z"
    }
   },
   "outputs": [
    {
     "data": {
      "application/javascript": [
       "\n",
       "            setTimeout(function() {\n",
       "                var nbb_cell_id = 2;\n",
       "                var nbb_unformatted_code = \"import logging\\n\\nlogging.basicConfig()\\nlogger = logging.getLogger(\\\"sqlalchemy.engine\\\")\\nlogger.propagate = True\\nlogger.setLevel(logging.INFO)\";\n",
       "                var nbb_formatted_code = \"import logging\\n\\nlogging.basicConfig()\\nlogger = logging.getLogger(\\\"sqlalchemy.engine\\\")\\nlogger.propagate = True\\nlogger.setLevel(logging.INFO)\";\n",
       "                var nbb_cells = Jupyter.notebook.get_cells();\n",
       "                for (var i = 0; i < nbb_cells.length; ++i) {\n",
       "                    if (nbb_cells[i].input_prompt_number == nbb_cell_id) {\n",
       "                        if (nbb_cells[i].get_text() == nbb_unformatted_code) {\n",
       "                             nbb_cells[i].set_text(nbb_formatted_code);\n",
       "                        }\n",
       "                        break;\n",
       "                    }\n",
       "                }\n",
       "            }, 500);\n",
       "            "
      ],
      "text/plain": [
       "<IPython.core.display.Javascript object>"
      ]
     },
     "metadata": {},
     "output_type": "display_data"
    }
   ],
   "source": [
    "import logging\n",
    "\n",
    "logging.basicConfig()\n",
    "logger = logging.getLogger(\"sqlalchemy.engine\")\n",
    "logger.propagate = True\n",
    "logger.setLevel(logging.INFO)"
   ]
  },
  {
   "cell_type": "code",
   "execution_count": 3,
   "id": "1910d2cb",
   "metadata": {
    "ExecuteTime": {
     "end_time": "2021-10-28T13:44:17.617700Z",
     "start_time": "2021-10-28T13:44:16.327709Z"
    }
   },
   "outputs": [
    {
     "data": {
      "application/javascript": [
       "\n",
       "            setTimeout(function() {\n",
       "                var nbb_cell_id = 3;\n",
       "                var nbb_unformatted_code = \"import sqlalchemy as sa\\n\\nfrom app.db import db_session\\nfrom app.models import User, Todo\";\n",
       "                var nbb_formatted_code = \"import sqlalchemy as sa\\n\\nfrom app.db import db_session\\nfrom app.models import User, Todo\";\n",
       "                var nbb_cells = Jupyter.notebook.get_cells();\n",
       "                for (var i = 0; i < nbb_cells.length; ++i) {\n",
       "                    if (nbb_cells[i].input_prompt_number == nbb_cell_id) {\n",
       "                        if (nbb_cells[i].get_text() == nbb_unformatted_code) {\n",
       "                             nbb_cells[i].set_text(nbb_formatted_code);\n",
       "                        }\n",
       "                        break;\n",
       "                    }\n",
       "                }\n",
       "            }, 500);\n",
       "            "
      ],
      "text/plain": [
       "<IPython.core.display.Javascript object>"
      ]
     },
     "metadata": {},
     "output_type": "display_data"
    }
   ],
   "source": [
    "import sqlalchemy as sa\n",
    "\n",
    "from app.db import db_session\n",
    "from app.models import User, Todo"
   ]
  },
  {
   "cell_type": "code",
   "execution_count": 4,
   "id": "fb2ec2ab",
   "metadata": {
    "ExecuteTime": {
     "end_time": "2021-10-28T13:44:18.453556Z",
     "start_time": "2021-10-28T13:44:17.620374Z"
    }
   },
   "outputs": [
    {
     "name": "stderr",
     "output_type": "stream",
     "text": [
      "INFO:sqlalchemy.engine.Engine:select pg_catalog.version()\n",
      "INFO:sqlalchemy.engine.Engine:[raw sql] {}\n",
      "INFO:sqlalchemy.engine.Engine:select current_schema()\n",
      "INFO:sqlalchemy.engine.Engine:[raw sql] {}\n",
      "INFO:sqlalchemy.engine.Engine:show standard_conforming_strings\n",
      "INFO:sqlalchemy.engine.Engine:[raw sql] {}\n",
      "INFO:sqlalchemy.engine.Engine:BEGIN (implicit)\n",
      "INFO:sqlalchemy.engine.Engine:SELECT \"user\".id, \"user\".created_at, \"user\".name, \"user\".password \n",
      "FROM \"user\"\n",
      "INFO:sqlalchemy.engine.Engine:[generated in 0.00120s] {}\n",
      "INFO:sqlalchemy.engine.Engine:COMMIT\n"
     ]
    },
    {
     "data": {
      "text/plain": [
       "[User(created_at=datetime.datetime(2021, 10, 28, 13, 44, 5, 54786, tzinfo=datetime.timezone.utc), name='user_1', password='pass', id=UUID('1cceadf2-a906-49a6-b306-d84946914b68')),\n",
       " User(created_at=datetime.datetime(2021, 10, 28, 13, 44, 5, 55324, tzinfo=datetime.timezone.utc), name='user_2', password='pass', id=UUID('5bac15db-20c8-4f69-a271-01e860960b72')),\n",
       " User(created_at=datetime.datetime(2021, 10, 28, 13, 44, 5, 55563, tzinfo=datetime.timezone.utc), name='user_3', password='pass', id=UUID('5aa2870d-d0ce-454c-83c3-4eea161815a9')),\n",
       " User(created_at=datetime.datetime(2021, 10, 28, 13, 44, 5, 55731, tzinfo=datetime.timezone.utc), name='user_4', password='pass', id=UUID('8acc439a-4fbb-4090-9ee7-474253952206')),\n",
       " User(created_at=datetime.datetime(2021, 10, 28, 13, 44, 5, 55889, tzinfo=datetime.timezone.utc), name='user_5', password='pass', id=UUID('58e4356b-fdf8-4e44-87d2-7eb48d10e2c1')),\n",
       " User(created_at=datetime.datetime(2021, 10, 28, 13, 44, 5, 56071, tzinfo=datetime.timezone.utc), name='user_6', password='pass', id=UUID('36d2e1e1-8e27-463c-aca9-19f907e4149c')),\n",
       " User(created_at=datetime.datetime(2021, 10, 28, 13, 44, 5, 56238, tzinfo=datetime.timezone.utc), name='user_7', password='pass', id=UUID('beba6c44-14c2-45cb-8087-54866f22dd05')),\n",
       " User(created_at=datetime.datetime(2021, 10, 28, 13, 44, 5, 56394, tzinfo=datetime.timezone.utc), name='user_8', password='pass', id=UUID('5a4a74e7-27d5-424f-86e2-4b7cc598c594')),\n",
       " User(created_at=datetime.datetime(2021, 10, 28, 13, 44, 5, 56578, tzinfo=datetime.timezone.utc), name='user_9', password='pass', id=UUID('64ca8709-4082-4869-8677-9a5e4d2f68d4')),\n",
       " User(created_at=datetime.datetime(2021, 10, 28, 13, 44, 5, 56738, tzinfo=datetime.timezone.utc), name='user_10', password='pass', id=UUID('6935e008-a821-4bfa-94ad-370940a70569'))]"
      ]
     },
     "execution_count": 4,
     "metadata": {},
     "output_type": "execute_result"
    },
    {
     "data": {
      "application/javascript": [
       "\n",
       "            setTimeout(function() {\n",
       "                var nbb_cell_id = 4;\n",
       "                var nbb_unformatted_code = \"with db_session() as session:\\n    statement = sa.select(User)\\n    results = session.execute(statement)\\n    users = results.scalars().all()\\n\\nusers\";\n",
       "                var nbb_formatted_code = \"with db_session() as session:\\n    statement = sa.select(User)\\n    results = session.execute(statement)\\n    users = results.scalars().all()\\n\\nusers\";\n",
       "                var nbb_cells = Jupyter.notebook.get_cells();\n",
       "                for (var i = 0; i < nbb_cells.length; ++i) {\n",
       "                    if (nbb_cells[i].input_prompt_number == nbb_cell_id) {\n",
       "                        if (nbb_cells[i].get_text() == nbb_unformatted_code) {\n",
       "                             nbb_cells[i].set_text(nbb_formatted_code);\n",
       "                        }\n",
       "                        break;\n",
       "                    }\n",
       "                }\n",
       "            }, 500);\n",
       "            "
      ],
      "text/plain": [
       "<IPython.core.display.Javascript object>"
      ]
     },
     "metadata": {},
     "output_type": "display_data"
    }
   ],
   "source": [
    "with db_session() as session:\n",
    "    statement = sa.select(User)\n",
    "    results = session.execute(statement)\n",
    "    users = results.scalars().all()\n",
    "\n",
    "users"
   ]
  },
  {
   "cell_type": "code",
   "execution_count": 5,
   "id": "ecf6648a",
   "metadata": {
    "ExecuteTime": {
     "end_time": "2021-10-28T13:44:19.406533Z",
     "start_time": "2021-10-28T13:44:18.456568Z"
    }
   },
   "outputs": [
    {
     "name": "stderr",
     "output_type": "stream",
     "text": [
      "INFO:sqlalchemy.engine.Engine:BEGIN (implicit)\n",
      "INFO:sqlalchemy.engine.Engine:SELECT todo.id, todo.created_at, todo.title, todo.content, todo.user_id \n",
      "FROM todo JOIN \"user\" ON \"user\".id = todo.user_id \n",
      "WHERE \"user\".id = %(id_1)s\n",
      "INFO:sqlalchemy.engine.Engine:[generated in 0.00080s] {'id_1': UUID('1cceadf2-a906-49a6-b306-d84946914b68')}\n",
      "INFO:sqlalchemy.engine.Engine:COMMIT\n"
     ]
    },
    {
     "data": {
      "text/plain": [
       "[Todo(title='Note 1', created_at=datetime.datetime(2021, 10, 28, 13, 44, 5, 56922, tzinfo=datetime.timezone.utc), user_id=UUID('1cceadf2-a906-49a6-b306-d84946914b68'), id=UUID('53af0a0c-044a-4b82-af62-26efd419162e'), content='My first Note'),\n",
       " Todo(title='Note 2', created_at=datetime.datetime(2021, 10, 28, 13, 44, 5, 58104, tzinfo=datetime.timezone.utc), user_id=UUID('1cceadf2-a906-49a6-b306-d84946914b68'), id=UUID('1f60dde2-06ee-4e55-9374-f3431945cbac'), content='Edit this Note'),\n",
       " Todo(title='Note 3', created_at=datetime.datetime(2021, 10, 28, 13, 44, 5, 58397, tzinfo=datetime.timezone.utc), user_id=UUID('1cceadf2-a906-49a6-b306-d84946914b68'), id=UUID('3f33ef58-9e72-4750-ab23-43a8a9b16b65'), content='So many Notes'),\n",
       " Todo(title='Note 4', created_at=datetime.datetime(2021, 10, 28, 13, 44, 5, 58703, tzinfo=datetime.timezone.utc), user_id=UUID('1cceadf2-a906-49a6-b306-d84946914b68'), id=UUID('67f83669-21c5-4d3a-b5c0-bbe23bc99de5'), content='Reminder: make more Notes')]"
      ]
     },
     "execution_count": 5,
     "metadata": {},
     "output_type": "execute_result"
    },
    {
     "data": {
      "application/javascript": [
       "\n",
       "            setTimeout(function() {\n",
       "                var nbb_cell_id = 5;\n",
       "                var nbb_unformatted_code = \"with db_session() as session:\\n    statement = sa.select(Todo).join(User).where(User.id == users[0].id)\\n    results = session.execute(statement)\\n    todos = results.scalars().all()\\ntodos\";\n",
       "                var nbb_formatted_code = \"with db_session() as session:\\n    statement = sa.select(Todo).join(User).where(User.id == users[0].id)\\n    results = session.execute(statement)\\n    todos = results.scalars().all()\\ntodos\";\n",
       "                var nbb_cells = Jupyter.notebook.get_cells();\n",
       "                for (var i = 0; i < nbb_cells.length; ++i) {\n",
       "                    if (nbb_cells[i].input_prompt_number == nbb_cell_id) {\n",
       "                        if (nbb_cells[i].get_text() == nbb_unformatted_code) {\n",
       "                             nbb_cells[i].set_text(nbb_formatted_code);\n",
       "                        }\n",
       "                        break;\n",
       "                    }\n",
       "                }\n",
       "            }, 500);\n",
       "            "
      ],
      "text/plain": [
       "<IPython.core.display.Javascript object>"
      ]
     },
     "metadata": {},
     "output_type": "display_data"
    }
   ],
   "source": [
    "with db_session() as session:\n",
    "    statement = sa.select(Todo).join(User).where(User.id == users[0].id)\n",
    "    results = session.execute(statement)\n",
    "    todos = results.scalars().all()\n",
    "todos"
   ]
  },
  {
   "cell_type": "code",
   "execution_count": null,
   "id": "450bd83f",
   "metadata": {},
   "outputs": [],
   "source": []
  }
 ],
 "metadata": {
  "kernelspec": {
   "display_name": "Python 3 (ipykernel)",
   "language": "python",
   "name": "python3"
  },
  "language_info": {
   "codemirror_mode": {
    "name": "ipython",
    "version": 3
   },
   "file_extension": ".py",
   "mimetype": "text/x-python",
   "name": "python",
   "nbconvert_exporter": "python",
   "pygments_lexer": "ipython3",
   "version": "3.9.7"
  },
  "toc": {
   "base_numbering": 1,
   "nav_menu": {},
   "number_sections": true,
   "sideBar": true,
   "skip_h1_title": false,
   "title_cell": "Table of Contents",
   "title_sidebar": "Contents",
   "toc_cell": false,
   "toc_position": {},
   "toc_section_display": true,
   "toc_window_display": false
  }
 },
 "nbformat": 4,
 "nbformat_minor": 5
}
